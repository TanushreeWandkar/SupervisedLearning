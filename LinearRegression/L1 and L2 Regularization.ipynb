{
 "cells": [
  {
   "cell_type": "markdown",
   "id": "bc6c7f96",
   "metadata": {},
   "source": [
    "## L1 and L2 Regularization Example"
   ]
  },
  {
   "cell_type": "code",
   "execution_count": 33,
   "id": "2400269a",
   "metadata": {},
   "outputs": [],
   "source": [
    "### Importing the libraries needed\n",
    "import pandas as pd\n",
    "import numpy as np\n",
    "import matplotlib.pyplot as plt\n",
    "from sklearn.datasets import fetch_california_housing\n",
    "from sklearn.model_selection import train_test_split\n",
    "from sklearn.linear_model import LinearRegression\n",
    "from sklearn.metrics import r2_score"
   ]
  },
  {
   "cell_type": "code",
   "execution_count": 9,
   "id": "58f7e9e8",
   "metadata": {},
   "outputs": [
    {
     "data": {
      "text/plain": [
       "sklearn.utils._bunch.Bunch"
      ]
     },
     "execution_count": 9,
     "metadata": {},
     "output_type": "execute_result"
    }
   ],
   "source": [
    "# Loading data from python inbuilt dataaset\n",
    "housing = fetch_california_housing()\n",
    "type(housing)"
   ]
  },
  {
   "cell_type": "code",
   "execution_count": 13,
   "id": "bd71e9df",
   "metadata": {},
   "outputs": [
    {
     "data": {
      "text/plain": [
       "{'data': array([[   8.3252    ,   41.        ,    6.98412698, ...,    2.55555556,\n",
       "           37.88      , -122.23      ],\n",
       "        [   8.3014    ,   21.        ,    6.23813708, ...,    2.10984183,\n",
       "           37.86      , -122.22      ],\n",
       "        [   7.2574    ,   52.        ,    8.28813559, ...,    2.80225989,\n",
       "           37.85      , -122.24      ],\n",
       "        ...,\n",
       "        [   1.7       ,   17.        ,    5.20554273, ...,    2.3256351 ,\n",
       "           39.43      , -121.22      ],\n",
       "        [   1.8672    ,   18.        ,    5.32951289, ...,    2.12320917,\n",
       "           39.43      , -121.32      ],\n",
       "        [   2.3886    ,   16.        ,    5.25471698, ...,    2.61698113,\n",
       "           39.37      , -121.24      ]]),\n",
       " 'target': array([4.526, 3.585, 3.521, ..., 0.923, 0.847, 0.894]),\n",
       " 'frame': None,\n",
       " 'target_names': ['MedHouseVal'],\n",
       " 'feature_names': ['MedInc',\n",
       "  'HouseAge',\n",
       "  'AveRooms',\n",
       "  'AveBedrms',\n",
       "  'Population',\n",
       "  'AveOccup',\n",
       "  'Latitude',\n",
       "  'Longitude'],\n",
       " 'DESCR': '.. _california_housing_dataset:\\n\\nCalifornia Housing dataset\\n--------------------------\\n\\n**Data Set Characteristics:**\\n\\n    :Number of Instances: 20640\\n\\n    :Number of Attributes: 8 numeric, predictive attributes and the target\\n\\n    :Attribute Information:\\n        - MedInc        median income in block group\\n        - HouseAge      median house age in block group\\n        - AveRooms      average number of rooms per household\\n        - AveBedrms     average number of bedrooms per household\\n        - Population    block group population\\n        - AveOccup      average number of household members\\n        - Latitude      block group latitude\\n        - Longitude     block group longitude\\n\\n    :Missing Attribute Values: None\\n\\nThis dataset was obtained from the StatLib repository.\\nhttps://www.dcc.fc.up.pt/~ltorgo/Regression/cal_housing.html\\n\\nThe target variable is the median house value for California districts,\\nexpressed in hundreds of thousands of dollars ($100,000).\\n\\nThis dataset was derived from the 1990 U.S. census, using one row per census\\nblock group. A block group is the smallest geographical unit for which the U.S.\\nCensus Bureau publishes sample data (a block group typically has a population\\nof 600 to 3,000 people).\\n\\nA household is a group of people residing within a home. Since the average\\nnumber of rooms and bedrooms in this dataset are provided per household, these\\ncolumns may take surprisingly large values for block groups with few households\\nand many empty houses, such as vacation resorts.\\n\\nIt can be downloaded/loaded using the\\n:func:`sklearn.datasets.fetch_california_housing` function.\\n\\n.. topic:: References\\n\\n    - Pace, R. Kelley and Ronald Barry, Sparse Spatial Autoregressions,\\n      Statistics and Probability Letters, 33 (1997) 291-297\\n'}"
      ]
     },
     "execution_count": 13,
     "metadata": {},
     "output_type": "execute_result"
    }
   ],
   "source": [
    "housing"
   ]
  },
  {
   "cell_type": "code",
   "execution_count": 15,
   "id": "78d40753",
   "metadata": {},
   "outputs": [
    {
     "data": {
      "text/html": [
       "<div>\n",
       "<style scoped>\n",
       "    .dataframe tbody tr th:only-of-type {\n",
       "        vertical-align: middle;\n",
       "    }\n",
       "\n",
       "    .dataframe tbody tr th {\n",
       "        vertical-align: top;\n",
       "    }\n",
       "\n",
       "    .dataframe thead th {\n",
       "        text-align: right;\n",
       "    }\n",
       "</style>\n",
       "<table border=\"1\" class=\"dataframe\">\n",
       "  <thead>\n",
       "    <tr style=\"text-align: right;\">\n",
       "      <th></th>\n",
       "      <th>MedInc</th>\n",
       "      <th>HouseAge</th>\n",
       "      <th>AveRooms</th>\n",
       "      <th>AveBedrms</th>\n",
       "      <th>Population</th>\n",
       "      <th>AveOccup</th>\n",
       "      <th>Latitude</th>\n",
       "      <th>Longitude</th>\n",
       "    </tr>\n",
       "  </thead>\n",
       "  <tbody>\n",
       "    <tr>\n",
       "      <th>0</th>\n",
       "      <td>8.3252</td>\n",
       "      <td>41.0</td>\n",
       "      <td>6.984127</td>\n",
       "      <td>1.023810</td>\n",
       "      <td>322.0</td>\n",
       "      <td>2.555556</td>\n",
       "      <td>37.88</td>\n",
       "      <td>-122.23</td>\n",
       "    </tr>\n",
       "    <tr>\n",
       "      <th>1</th>\n",
       "      <td>8.3014</td>\n",
       "      <td>21.0</td>\n",
       "      <td>6.238137</td>\n",
       "      <td>0.971880</td>\n",
       "      <td>2401.0</td>\n",
       "      <td>2.109842</td>\n",
       "      <td>37.86</td>\n",
       "      <td>-122.22</td>\n",
       "    </tr>\n",
       "    <tr>\n",
       "      <th>2</th>\n",
       "      <td>7.2574</td>\n",
       "      <td>52.0</td>\n",
       "      <td>8.288136</td>\n",
       "      <td>1.073446</td>\n",
       "      <td>496.0</td>\n",
       "      <td>2.802260</td>\n",
       "      <td>37.85</td>\n",
       "      <td>-122.24</td>\n",
       "    </tr>\n",
       "    <tr>\n",
       "      <th>3</th>\n",
       "      <td>5.6431</td>\n",
       "      <td>52.0</td>\n",
       "      <td>5.817352</td>\n",
       "      <td>1.073059</td>\n",
       "      <td>558.0</td>\n",
       "      <td>2.547945</td>\n",
       "      <td>37.85</td>\n",
       "      <td>-122.25</td>\n",
       "    </tr>\n",
       "    <tr>\n",
       "      <th>4</th>\n",
       "      <td>3.8462</td>\n",
       "      <td>52.0</td>\n",
       "      <td>6.281853</td>\n",
       "      <td>1.081081</td>\n",
       "      <td>565.0</td>\n",
       "      <td>2.181467</td>\n",
       "      <td>37.85</td>\n",
       "      <td>-122.25</td>\n",
       "    </tr>\n",
       "  </tbody>\n",
       "</table>\n",
       "</div>"
      ],
      "text/plain": [
       "   MedInc  HouseAge  AveRooms  AveBedrms  Population  AveOccup  Latitude   \n",
       "0  8.3252      41.0  6.984127   1.023810       322.0  2.555556     37.88  \\\n",
       "1  8.3014      21.0  6.238137   0.971880      2401.0  2.109842     37.86   \n",
       "2  7.2574      52.0  8.288136   1.073446       496.0  2.802260     37.85   \n",
       "3  5.6431      52.0  5.817352   1.073059       558.0  2.547945     37.85   \n",
       "4  3.8462      52.0  6.281853   1.081081       565.0  2.181467     37.85   \n",
       "\n",
       "   Longitude  \n",
       "0    -122.23  \n",
       "1    -122.22  \n",
       "2    -122.24  \n",
       "3    -122.25  \n",
       "4    -122.25  "
      ]
     },
     "execution_count": 15,
     "metadata": {},
     "output_type": "execute_result"
    }
   ],
   "source": [
    "housing_df =pd.DataFrame(housing.data)\n",
    "housing_df.columns = housing.feature_names\n",
    "housing_df.head()"
   ]
  },
  {
   "cell_type": "code",
   "execution_count": 20,
   "id": "abb6864e",
   "metadata": {},
   "outputs": [
    {
     "data": {
      "text/plain": [
       "(20640, 8)"
      ]
     },
     "execution_count": 20,
     "metadata": {},
     "output_type": "execute_result"
    }
   ],
   "source": [
    "housing_df.shape"
   ]
  },
  {
   "cell_type": "code",
   "execution_count": 18,
   "id": "e36b7786",
   "metadata": {},
   "outputs": [
    {
     "data": {
      "text/plain": [
       "numpy.ndarray"
      ]
     },
     "execution_count": 18,
     "metadata": {},
     "output_type": "execute_result"
    }
   ],
   "source": [
    "housing_target = housing.target\n",
    "type(housing_target)"
   ]
  },
  {
   "cell_type": "code",
   "execution_count": 19,
   "id": "cbeaaa3b",
   "metadata": {},
   "outputs": [
    {
     "data": {
      "text/plain": [
       "20640"
      ]
     },
     "execution_count": 19,
     "metadata": {},
     "output_type": "execute_result"
    }
   ],
   "source": [
    "len(housing_target)"
   ]
  },
  {
   "cell_type": "code",
   "execution_count": 22,
   "id": "8acda16d",
   "metadata": {},
   "outputs": [
    {
     "data": {
      "text/html": [
       "<div>\n",
       "<style scoped>\n",
       "    .dataframe tbody tr th:only-of-type {\n",
       "        vertical-align: middle;\n",
       "    }\n",
       "\n",
       "    .dataframe tbody tr th {\n",
       "        vertical-align: top;\n",
       "    }\n",
       "\n",
       "    .dataframe thead th {\n",
       "        text-align: right;\n",
       "    }\n",
       "</style>\n",
       "<table border=\"1\" class=\"dataframe\">\n",
       "  <thead>\n",
       "    <tr style=\"text-align: right;\">\n",
       "      <th></th>\n",
       "      <th>MedInc</th>\n",
       "      <th>HouseAge</th>\n",
       "      <th>AveRooms</th>\n",
       "      <th>AveBedrms</th>\n",
       "      <th>Population</th>\n",
       "      <th>AveOccup</th>\n",
       "      <th>Latitude</th>\n",
       "      <th>Longitude</th>\n",
       "      <th>MedHouseVal</th>\n",
       "    </tr>\n",
       "  </thead>\n",
       "  <tbody>\n",
       "    <tr>\n",
       "      <th>0</th>\n",
       "      <td>8.3252</td>\n",
       "      <td>41.0</td>\n",
       "      <td>6.984127</td>\n",
       "      <td>1.023810</td>\n",
       "      <td>322.0</td>\n",
       "      <td>2.555556</td>\n",
       "      <td>37.88</td>\n",
       "      <td>-122.23</td>\n",
       "      <td>4.526</td>\n",
       "    </tr>\n",
       "    <tr>\n",
       "      <th>1</th>\n",
       "      <td>8.3014</td>\n",
       "      <td>21.0</td>\n",
       "      <td>6.238137</td>\n",
       "      <td>0.971880</td>\n",
       "      <td>2401.0</td>\n",
       "      <td>2.109842</td>\n",
       "      <td>37.86</td>\n",
       "      <td>-122.22</td>\n",
       "      <td>3.585</td>\n",
       "    </tr>\n",
       "    <tr>\n",
       "      <th>2</th>\n",
       "      <td>7.2574</td>\n",
       "      <td>52.0</td>\n",
       "      <td>8.288136</td>\n",
       "      <td>1.073446</td>\n",
       "      <td>496.0</td>\n",
       "      <td>2.802260</td>\n",
       "      <td>37.85</td>\n",
       "      <td>-122.24</td>\n",
       "      <td>3.521</td>\n",
       "    </tr>\n",
       "    <tr>\n",
       "      <th>3</th>\n",
       "      <td>5.6431</td>\n",
       "      <td>52.0</td>\n",
       "      <td>5.817352</td>\n",
       "      <td>1.073059</td>\n",
       "      <td>558.0</td>\n",
       "      <td>2.547945</td>\n",
       "      <td>37.85</td>\n",
       "      <td>-122.25</td>\n",
       "      <td>3.413</td>\n",
       "    </tr>\n",
       "    <tr>\n",
       "      <th>4</th>\n",
       "      <td>3.8462</td>\n",
       "      <td>52.0</td>\n",
       "      <td>6.281853</td>\n",
       "      <td>1.081081</td>\n",
       "      <td>565.0</td>\n",
       "      <td>2.181467</td>\n",
       "      <td>37.85</td>\n",
       "      <td>-122.25</td>\n",
       "      <td>3.422</td>\n",
       "    </tr>\n",
       "  </tbody>\n",
       "</table>\n",
       "</div>"
      ],
      "text/plain": [
       "   MedInc  HouseAge  AveRooms  AveBedrms  Population  AveOccup  Latitude   \n",
       "0  8.3252      41.0  6.984127   1.023810       322.0  2.555556     37.88  \\\n",
       "1  8.3014      21.0  6.238137   0.971880      2401.0  2.109842     37.86   \n",
       "2  7.2574      52.0  8.288136   1.073446       496.0  2.802260     37.85   \n",
       "3  5.6431      52.0  5.817352   1.073059       558.0  2.547945     37.85   \n",
       "4  3.8462      52.0  6.281853   1.081081       565.0  2.181467     37.85   \n",
       "\n",
       "   Longitude  MedHouseVal  \n",
       "0    -122.23        4.526  \n",
       "1    -122.22        3.585  \n",
       "2    -122.24        3.521  \n",
       "3    -122.25        3.413  \n",
       "4    -122.25        3.422  "
      ]
     },
     "execution_count": 22,
     "metadata": {},
     "output_type": "execute_result"
    }
   ],
   "source": [
    "housing_df['MedHouseVal'] = housing_target\n",
    "housing_df.head()"
   ]
  },
  {
   "cell_type": "code",
   "execution_count": 23,
   "id": "2137f062",
   "metadata": {},
   "outputs": [],
   "source": [
    "### Drop the target coloumn and assign to Y variable\n",
    "X = housing_df.drop(columns='MedHouseVal')\n",
    "Y = housing_df['MedHouseVal']"
   ]
  },
  {
   "cell_type": "code",
   "execution_count": 24,
   "id": "67a4b51f",
   "metadata": {},
   "outputs": [],
   "source": [
    "### Train test split\n",
    "X_train, X_test, Y_train, Y_test = train_test_split(X,Y,test_size=0.3)"
   ]
  },
  {
   "cell_type": "code",
   "execution_count": 37,
   "id": "ccdca40a",
   "metadata": {},
   "outputs": [
    {
     "name": "stdout",
     "output_type": "stream",
     "text": [
      "R squared for simple linear regression is  0.6101543117530047\n",
      "     Features  Coefficient_values\n",
      "0      MedInc            0.425767\n",
      "1    HouseAge            0.009292\n",
      "2    AveRooms           -0.088898\n",
      "3   AveBedrms            0.542158\n",
      "4  Population           -0.000003\n",
      "5    AveOccup           -0.003190\n",
      "6    Latitude           -0.427871\n",
      "7   Longitude           -0.440357\n"
     ]
    },
    {
     "data": {
      "text/plain": [
       "<BarContainer object of 8 artists>"
      ]
     },
     "execution_count": 37,
     "metadata": {},
     "output_type": "execute_result"
    },
    {
     "data": {
      "image/png": "[encoded data removed]",
      "text/plain": [
       "<Figure size 2000x1000 with 1 Axes>"
      ]
     },
     "metadata": {},
     "output_type": "display_data"
    }
   ],
   "source": [
    "## apply simple linear regression\n",
    "LR =LinearRegression()\n",
    "LR.fit(X_train,Y_train)\n",
    "\n",
    "## predict on test dataset\n",
    "pred_y = LR.predict(X_test)\n",
    "\n",
    "### Calculate r-square value\n",
    "r2_lr = r2_score(Y_test, pred_y)\n",
    "print(\"R squared for simple linear regression is \", r2_lr)\n",
    "\n",
    "### Putting together the cofficients of the features.\n",
    "coff_df = pd.DataFrame()\n",
    "coff_df['Features'] = X_train.columns\n",
    "coff_df['Coefficient_values'] = LR.coef_\n",
    "print(coff_df)\n",
    "\n",
    "## bar chart for the same\n",
    "plt.figure(figsize = (20,10))\n",
    "plt.bar(coff_df['Features'],coff_df['Coefficient_values'])"
   ]
  },
  {
   "cell_type": "code",
   "execution_count": 43,
   "id": "a70d350a",
   "metadata": {},
   "outputs": [
    {
     "name": "stdout",
     "output_type": "stream",
     "text": [
      "R squared for RIdge regression is  0.6101454707244383\n",
      "     Features  Coefficient_values\n",
      "0      MedInc            0.425712\n",
      "1    HouseAge            0.009293\n",
      "2    AveRooms           -0.088792\n",
      "3   AveBedrms            0.541606\n",
      "4  Population           -0.000003\n",
      "5    AveOccup           -0.003190\n",
      "6    Latitude           -0.427851\n",
      "7   Longitude           -0.440328\n"
     ]
    },
    {
     "data": {
      "text/plain": [
       "<BarContainer object of 8 artists>"
      ]
     },
     "execution_count": 43,
     "metadata": {},
     "output_type": "execute_result"
    },
    {
     "data": {
      "image/png": "[encoded data removed]",
      "text/plain": [
       "<Figure size 2000x1000 with 1 Axes>"
      ]
     },
     "metadata": {},
     "output_type": "display_data"
    }
   ],
   "source": [
    "## apply Ridge regression\n",
    "\n",
    "from sklearn.linear_model import Ridge\n",
    "\n",
    "RR =Ridge(alpha = 0.5)\n",
    "RR.fit(X_train,Y_train)\n",
    "\n",
    "## predict on test dataset\n",
    "pred_y = RR.predict(X_test)\n",
    "\n",
    "### Calculate r-square value\n",
    "r2_rr = r2_score(Y_test, pred_y)\n",
    "print(\"R squared for RIdge regression is \", r2_rr)\n",
    "\n",
    "### Putting together the cofficients of the features.\n",
    "coff_df_rr = pd.DataFrame()\n",
    "coff_df_rr['Features'] = X_train.columns\n",
    "coff_df_rr['Coefficient_values'] = RR.coef_\n",
    "print(coff_df_rr)\n",
    "\n",
    "## bar chart for the same\n",
    "plt.figure(figsize = (20,10))\n",
    "plt.bar(coff_df_rr['Features'],coff_df_rr['Coefficient_values'])"
   ]
  },
  {
   "cell_type": "code",
   "execution_count": 47,
   "id": "67f21994",
   "metadata": {},
   "outputs": [
    {
     "name": "stdout",
     "output_type": "stream",
     "text": [
      "R squared for RIdge regression is  0.6101189732622624\n",
      "     Features  Coefficient_values\n",
      "0      MedInc            0.425548\n",
      "1    HouseAge            0.009297\n",
      "2    AveRooms           -0.088475\n",
      "3   AveBedrms            0.539956\n",
      "4  Population           -0.000003\n",
      "5    AveOccup           -0.003190\n",
      "6    Latitude           -0.427789\n",
      "7   Longitude           -0.440240\n"
     ]
    },
    {
     "data": {
      "text/plain": [
       "<BarContainer object of 8 artists>"
      ]
     },
     "execution_count": 47,
     "metadata": {},
     "output_type": "execute_result"
    },
    {
     "data": {
      "image/png": "[encoded data removed]",
      "text/plain": [
       "<Figure size 2000x1000 with 1 Axes>"
      ]
     },
     "metadata": {},
     "output_type": "display_data"
    }
   ],
   "source": [
    "## apply Ridge regression\n",
    "\n",
    "from sklearn.linear_model import Ridge\n",
    "\n",
    "RR =Ridge(alpha = 2)\n",
    "RR.fit(X_train,Y_train)\n",
    "\n",
    "## predict on test dataset\n",
    "pred_y = RR.predict(X_test)\n",
    "\n",
    "### Calculate r-square value\n",
    "r2_rr = r2_score(Y_test, pred_y)\n",
    "print(\"R squared for RIdge regression is \", r2_rr)\n",
    "\n",
    "### Putting together the cofficients of the features.\n",
    "coff_df_rr = pd.DataFrame()\n",
    "coff_df_rr['Features'] = X_train.columns\n",
    "coff_df_rr['Coefficient_values'] = RR.coef_\n",
    "print(coff_df_rr)\n",
    "\n",
    "## bar chart for the same\n",
    "plt.figure(figsize = (20,10))\n",
    "plt.bar(coff_df_rr['Features'],coff_df_rr['Coefficient_values'])"
   ]
  },
  {
   "cell_type": "markdown",
   "id": "de21510b",
   "metadata": {},
   "source": [
    "### No much change in the neither the accuracy nor the cofficients for Ridge Regression since the cofficients are too small. and both simple linear regression and Ridge are smoother models"
   ]
  },
  {
   "cell_type": "code",
   "execution_count": 46,
   "id": "f489544e",
   "metadata": {},
   "outputs": [
    {
     "name": "stdout",
     "output_type": "stream",
     "text": [
      "R squared for Lasso regression is  0.4505910668658386\n",
      "     Features  Coefficient_values\n",
      "0      MedInc            0.287297\n",
      "1    HouseAge            0.012212\n",
      "2    AveRooms            0.000000\n",
      "3   AveBedrms           -0.000000\n",
      "4  Population            0.000010\n",
      "5    AveOccup           -0.000022\n",
      "6    Latitude           -0.000000\n",
      "7   Longitude           -0.000000\n"
     ]
    },
    {
     "data": {
      "text/plain": [
       "<BarContainer object of 8 artists>"
      ]
     },
     "execution_count": 46,
     "metadata": {},
     "output_type": "execute_result"
    },
    {
     "data": {
      "image/png": "[encoded data removed]",
      "text/plain": [
       "<Figure size 2000x1000 with 1 Axes>"
      ]
     },
     "metadata": {},
     "output_type": "display_data"
    }
   ],
   "source": [
    "# import Lasso regression from sklearn library\n",
    "from sklearn.linear_model import Lasso\n",
    "\n",
    "LassoR =Lasso(alpha = 0.5)\n",
    "LassoR.fit(X_train,Y_train)\n",
    "\n",
    "## predict on test dataset\n",
    "pred_y = LassoR.predict(X_test)\n",
    "\n",
    "### Calculate r-square value\n",
    "r2_LassoR = r2_score(Y_test, pred_y)\n",
    "print(\"R squared for Lasso regression is \", r2_LassoR)\n",
    "\n",
    "### Putting together the cofficients of the features.\n",
    "coff_df_LassoR = pd.DataFrame()\n",
    "coff_df_LassoR['Features'] = X_train.columns\n",
    "coff_df_LassoR['Coefficient_values'] = LassoR.coef_\n",
    "print(coff_df_LassoR)\n",
    "\n",
    "## bar chart for the same\n",
    "plt.figure(figsize = (20,10))\n",
    "plt.bar(coff_df_LassoR['Features'],coff_df_LassoR['Coefficient_values'])"
   ]
  },
  {
   "cell_type": "markdown",
   "id": "21a9e872",
   "metadata": {},
   "source": [
    "### the accuracy of the model has reduced and many of the features became 0. Hence we can use Lasso regression as a Feature selector as well. Like ex : before applying the random forest we can use the Lasso regression and find out the features which are not important and train the model after removing those parameters."
   ]
  }
 ],
 "metadata": {
  "kernelspec": {
   "display_name": "Python 3 (ipykernel)",
   "language": "python",
   "name": "python3"
  },
  "language_info": {
   "codemirror_mode": {
    "name": "ipython",
    "version": 3
   },
   "file_extension": ".py",
   "mimetype": "text/x-python",
   "name": "python",
   "nbconvert_exporter": "python",
   "pygments_lexer": "ipython3",
   "version": "3.10.11"
  }
 },
 "nbformat": 4,
 "nbformat_minor": 5
}
